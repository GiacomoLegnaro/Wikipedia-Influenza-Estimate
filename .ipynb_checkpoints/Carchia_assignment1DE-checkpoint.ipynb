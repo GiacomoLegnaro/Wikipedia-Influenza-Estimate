{
 "cells": [
  {
   "cell_type": "markdown",
   "metadata": {},
   "source": [
    "<center> \n",
    "<hr>\n",
    "<h1> Digital Epidemiology Assignment #1 </h1>\n",
    "<h2> Edoardo Carchia </h2>\n",
    "<hr>\n",
    "</center>"
   ]
  },
  {
   "cell_type": "markdown",
   "metadata": {},
   "source": [
    "### Part 1"
   ]
  },
  {
   "cell_type": "markdown",
   "metadata": {},
   "source": [
    "* **1.1**"
   ]
  },
  {
   "cell_type": "markdown",
   "metadata": {},
   "source": [
    "*First of all, let's import all python libraries we are going to use in the analysis together with the social network chosen: \"Youtube friendship\" dataset (from Konect network data repositories), an undirected, unweighted graph of 1,134,890 nodes and 2,987,624 edges.*"
   ]
  },
  {
   "cell_type": "code",
   "execution_count": 5,
   "metadata": {
    "collapsed": false
   },
   "outputs": [
    {
     "data": {
      "text/plain": [
       "'IGRAPH UN-- 1134890 2987624 -- \\n+ attr: name (v)'"
      ]
     },
     "execution_count": 5,
     "metadata": {},
     "output_type": "execute_result"
    }
   ],
   "source": [
    "import igraph as ig\n",
    "import numpy as np\n",
    "import matplotlib.pyplot as plt\n",
    "from matplotlib import pyplot\n",
    "import random\n",
    "from operator import itemgetter\n",
    "\n",
    "\n",
    "Y = ig.Graph.Read_Ncol('youtube_ungraph.txt', directed=False)\n",
    "\n",
    "Y.summary()"
   ]
  },
  {
   "cell_type": "markdown",
   "metadata": {
    "collapsed": false
   },
   "source": [
    "*After verifying that the graph doesn't have multiple disconnected components, let's compute and plot its degree distribution:*"
   ]
  },
  {
   "cell_type": "code",
   "execution_count": 6,
   "metadata": {
    "collapsed": true
   },
   "outputs": [],
   "source": [
    "# set up a function that takes as input a graph and returns a dictionary having as keys all the different degrees existing\n",
    "# inside the graph and as values the number of the occurrences of that key degree inside the graph\n",
    "\n",
    "def degree_frequency(G):\n",
    "    \n",
    "    degree_dict = {}\n",
    "    \n",
    "    for degree in G.degree():\n",
    "        if degree not in degree_dict:\n",
    "            degree_dict[degree] = 1\n",
    "        else:\n",
    "            degree_dict[degree] += 1\n",
    "    \n",
    "    return degree_dict\n",
    "\n",
    "\n",
    "# set up a function that returns the digree distribution plot of the graph, also exploiting the degree-frequency dictionary \n",
    "# defined above\n",
    "\n",
    "def degree_distr(G):\n",
    "    \n",
    "    x_list = []\n",
    "    y_list = []\n",
    "    \n",
    "    for d,f in degree_frequency(G).items():\n",
    "        x_list.append(d)\n",
    "        y_list.append(f/float(G.vcount()))\n",
    " \n",
    "    # graph labels\n",
    "    plt.title('Degree Distribution')\n",
    "    plt.xlabel('k')\n",
    "    plt.ylabel('P(k)')\n",
    " \n",
    "    \n",
    "    # log scale\n",
    "    pyplot.xscale('log')\n",
    "    pyplot.yscale('log')\n",
    "    \n",
    "    # plot degree distribution\n",
    "    plt.scatter(x_list,y_list)\n",
    "    plt.show()"
   ]
  },
  {
   "cell_type": "code",
   "execution_count": 7,
   "metadata": {
    "collapsed": false
   },
   "outputs": [
    {
     "data": {
      "image/png": "[encoded data removed]",
      "text/plain": [
       "<matplotlib.figure.Figure at 0x285bd9de240>"
      ]
     },
     "metadata": {},
     "output_type": "display_data"
    }
   ],
   "source": [
    "degree_distr(Y)"
   ]
  },
  {
   "cell_type": "markdown",
   "metadata": {},
   "source": [
    "* **1.2**"
   ]
  },
  {
   "cell_type": "markdown",
   "metadata": {},
   "source": [
    "*Let's now set up a simulation of an SIR epidemic model on our graph. <br>\n",
    "Due to the size of the social network considered for the analysis, I changed the model seen in class in order to speed-up as much as possible its execution: in this regard I do an extensive use of sets in order to exploit the fact that membership checking for python sets is very fast, and this is very useful if we consider that we have to apply that to such a large-scale network (more than 1,000,000 nodes). <br>\n",
    "In order to allow the epidemic to take off, we need a value of the basic reproduction number (R0) higher than 0.\n",
    "Since it is given by the ratio beta/mu, where beta is the trasmission rate of the disease and mu is the recovery rate, I chose for them respectivily the values 0.8 and 0.2.<br>\n",
    "Regarding instead the choice of the M seed nodes from which we want the epidemic to start, I chose M = 10 seeds at random. Even if 10 is a very little number related to the huge graph analyzed, some tests I did showed that this doesn't affect the portion of the nodes reached by the epidemic, but it only affects the speed at which nodes are reached. Hence, setting such a small number of seeds, allows us to 'enlarge' in some sense the view of what is really happening to the network, making the process evolution a little bit clearer.<br>\n",
    "Let's run the model: *"
   ]
  },
  {
   "cell_type": "code",
   "execution_count": 8,
   "metadata": {
    "collapsed": false
   },
   "outputs": [],
   "source": [
    "# 10 seed nodes taken at random\n",
    "seeds = set(random.sample(range(Y.vcount()), 10))\n",
    "\n",
    "# initialization both of the starting infectous nodes set from the seeds and of the remaning ones (susceptibles)\n",
    "infectous = {i for i in seeds}\n",
    "susceptibles = {i for i in range(Y.vcount()) if i not in infectous}\n",
    "\n",
    "# R0 = 4\n",
    "mu=0.2\n",
    "beta=0.8\n",
    "\n",
    "# empty list in wich lengths of infected nodes will be appended at each step\n",
    "I_net=[]\n",
    "\n",
    "while len(infectous)>0:\n",
    "    \n",
    "    # temporary list in which to append newest infected nodes\n",
    "    new_infected = set()\n",
    "    \n",
    "    # transmission process\n",
    "    for i in infectous.copy():\n",
    "        for j in Y.neighbors(i):\n",
    "            if j in susceptibles:\n",
    "                p=np.random.random()\n",
    "                if p<beta:\n",
    "                    new_infected.add(j)\n",
    "                    susceptibles.remove(j)\n",
    "\n",
    "    # recovery process (naturally except for newest infected nodes)\n",
    "    for k in infectous.copy():\n",
    "        p=np.random.random()\n",
    "        if p<mu:\n",
    "            infectous.remove(k)\n",
    "            \n",
    "    # update process(old nodes still infected merged to the ones just infected)\n",
    "    infectous.update(new_infected)\n",
    "    \n",
    "    # store output\n",
    "    I_net.append(len(infectous))"
   ]
  },
  {
   "cell_type": "markdown",
   "metadata": {},
   "source": [
    "*The model used, together with the high-scalability of the igraph library, in less than 20 seconds gives us the list of the number of infected nodes at each timestep.<br> Here the plot of the epidemic curve:*"
   ]
  },
  {
   "cell_type": "code",
   "execution_count": 11,
   "metadata": {
    "collapsed": false
   },
   "outputs": [
    {
     "data": {
      "image/png": "[encoded data removed]",
      "text/plain": [
       "<matplotlib.figure.Figure at 0x2b9dfdc7a58>"
      ]
     },
     "metadata": {},
     "output_type": "display_data"
    }
   ],
   "source": [
    "plt.figure(figsize=(10,7))\n",
    "plt.xlabel('Time', fontsize=18)\n",
    "plt.ylabel('Prevalence', fontsize=18)\n",
    "plt.axis([0, 100, 0, 1135000])\n",
    "plt.plot(range(len(I_net)),I_net, '.-')\n",
    "plt.show()"
   ]
  },
  {
   "cell_type": "markdown",
   "metadata": {},
   "source": [
    "*From the plot of the epidemic curve, we can see that the model parameters chosen have allowed the outbreak of the epidemic reaching most of the nodes of the graph.*"
   ]
  },
  {
   "cell_type": "markdown",
   "metadata": {},
   "source": [
    "### Part 2"
   ]
  },
  {
   "cell_type": "markdown",
   "metadata": {},
   "source": [
    "* **2.1**"
   ]
  },
  {
   "cell_type": "markdown",
   "metadata": {},
   "source": [
    "*Firstly, let's select at random the N sentinels we will use for recording the arrival times of the epidemic to these nodes.\n",
    "I chose N = 1,000 considering how large the graph analyzed is. <br>\n",
    "Starting from the SIR model defined in the previous exercise, I modified it inserting the random set of sentinels, putting a seed called 'sameSentinels' to the random choice, in order to use the same 1,000 sentinels for each run of the epidemic as specified in the exercise requested.<br>\n",
    "Then I put the model into a for cycle simulating the 100 epidemics and for each epidemic I store time arrivals to selected sentinels, assigning a score equal to max(t)+1 to sentinels not reached by epidemic, where max(t) is the maximum timestep reached before there were no more infected nodes.<br>\n",
    "Maintaining the same values for parameters mu and beta, and the same number of seed nodes, each execution takes the same time of the previous model.<br>\n",
    "Following the code:*"
   ]
  },
  {
   "cell_type": "code",
   "execution_count": 16,
   "metadata": {
    "collapsed": false
   },
   "outputs": [],
   "source": [
    "# R0 = 4\n",
    "mu=0.2\n",
    "beta=0.8\n",
    "\n",
    "# set up 100 realization of the epidemic\n",
    "nruns = 100\n",
    "\n",
    "# initialize an empty list in which we will append the arrival times recorded by the sentinels\n",
    "arr_times_2_1 = []\n",
    "\n",
    "for _ in range(nruns):\n",
    "    \n",
    "    # for each run it takes 10 seeds at random and it selects the remaining nodes from which randomly select the sentinels\n",
    "    nodes = set(range(Y.vcount()))\n",
    "    seeds = set(random.sample(nodes, 10))\n",
    "    remaining4sentinels = nodes.difference(seeds)\n",
    "    \n",
    "    # for each run select the same 1,000 sentinels to record arrival times\n",
    "    random.seed('sameSentinels')\n",
    "    sentinels = set(random.sample(remaining4sentinels, 1000))\n",
    "    \n",
    "    # initialization of both the starting infectous nodes set from the seeds and the remaning ones (susceptibles)\n",
    "    infectous = {i for i in seeds}\n",
    "    susceptibles = {i for i in nodes if i not in infectous}\n",
    "    \n",
    "    # intermediate empty list in which to append the arrival times recorded from sentinel in each epidemic\n",
    "    arr = []\n",
    "    \n",
    "    # initialization of t timestep equal to 1 (since at time zero we only have the seeds as infected nodes)\n",
    "    t=1\n",
    "    \n",
    "    # initialization of a variable count that counts the number of sentinels reached by the epidemic\n",
    "    count=0\n",
    "    \n",
    "    while len(infectous)>0:\n",
    "        \n",
    "        # temporary list in which to append newest infected nodes\n",
    "        new_infected = set()\n",
    "    \n",
    "        # transmission process\n",
    "        for i in infectous.copy():\n",
    "            for j in Y.neighbors(i):\n",
    "                if j in susceptibles:\n",
    "                    p=np.random.random()\n",
    "                    if p<beta:\n",
    "                        new_infected.add(j)\n",
    "                        susceptibles.remove(j)\n",
    "\n",
    "        # recovery process (except for newest infected nodes)\n",
    "        for k in infectous.copy():\n",
    "            p=np.random.random()\n",
    "            if p<mu:\n",
    "                infectous.remove(k)\n",
    "                \n",
    "        # update process (old nodes still infected merged to the ones just infected)\n",
    "        infectous.update(new_infected)\n",
    "        \n",
    "        # store detected arrival times\n",
    "        for y in infectous:\n",
    "            if y in sentinels:\n",
    "                arr.append(t)\n",
    "                sentinels.remove(y)\n",
    "                count +=1\n",
    "        \n",
    "        # break the simulation if all the sentinels have been reached by the epidemic\n",
    "        if count == 100:\n",
    "            break\n",
    "        \n",
    "        # increase timestep\n",
    "        t+=1\n",
    "    \n",
    "    # at the end of the simulation, store the arrival times detected to the common list, assigning to sentinels \n",
    "    # not reached by the epidemic a time arrival equal to max(t)+1, where max(t) is the maximum timestep reached before the \n",
    "    # number of infected nodes was 0\n",
    "    not_reached = [t]*(1000-count)\n",
    "    arr.extend(not_reached)\n",
    "    arr_times_2_1.extend(arr)"
   ]
  },
  {
   "cell_type": "markdown",
   "metadata": {},
   "source": [
    "*After a while (not so short!) we have stored in a list all the arrival times of our interest, and now we can use them for displaying the resulting distribution by means of a boxplot:*"
   ]
  },
  {
   "cell_type": "code",
   "execution_count": 18,
   "metadata": {
    "collapsed": false
   },
   "outputs": [
    {
     "data": {
      "image/png": "[encoded data removed]",
      "text/plain": [
       "<matplotlib.figure.Figure at 0x285b0964080>"
      ]
     },
     "metadata": {},
     "output_type": "display_data"
    }
   ],
   "source": [
    "fig = plt.figure(0, figsize=(9, 6))\n",
    "plt.axis([0, 1, 0, 20])\n",
    "plt.boxplot(arr_times_2_1,1)\n",
    "plt.title('Distribution of arrival times')\n",
    "plt.xticks([1], ['Same Sentinels'])\n",
    "plt.show()"
   ]
  },
  {
   "cell_type": "markdown",
   "metadata": {},
   "source": [
    "* **2.2**"
   ]
  },
  {
   "cell_type": "markdown",
   "metadata": {},
   "source": [
    "*Now let's do the same done above, but this time considering a different random choice of the 1,000 sentinels for each run of the epidemics (100 epidemics, 100 different random choices of the sentinels):*"
   ]
  },
  {
   "cell_type": "code",
   "execution_count": 19,
   "metadata": {
    "collapsed": true
   },
   "outputs": [],
   "source": [
    "# R0 = 4\n",
    "mu=0.2\n",
    "beta=0.8\n",
    "\n",
    "# set up 100 realization of the epidemic\n",
    "nruns = 100\n",
    "\n",
    "# initialize an empty list in which we will append the arrival times recorded by the sentinels\n",
    "arr_times_2_2 = []\n",
    "\n",
    "for _ in range(nruns):\n",
    "    \n",
    "    # for each run it takes 10 seeds at random and it selects the remaining nodes from which randomly select the sentinels\n",
    "    nodes = set(range(Y.vcount()))\n",
    "    seeds = set(random.sample(nodes, 10))\n",
    "    remaining4sentinels = nodes.difference(seeds)\n",
    "    \n",
    "    # for EACH RUN select at RANDOM 1,000 sentinels to record arrival times\n",
    "    sentinels = set(random.sample(remaining4sentinels, 1000))\n",
    "    \n",
    "    # initialization of both the starting infectous nodes set from the seeds and the remaning ones (susceptibles)\n",
    "    infectous = {i for i in seeds}\n",
    "    susceptibles = {i for i in nodes if i not in infectous}\n",
    "    \n",
    "    # intermediate empty list in which to append the arrival times recorded from sentinel in each epidemic\n",
    "    arr = []\n",
    "    \n",
    "    # initialization of t timestep equal to 1 (since at time zero we only have the seeds as infected nodes)\n",
    "    t=1\n",
    "    \n",
    "    # initialization of a variable count that counts the number of sentinels reached by the epidemic\n",
    "    count=0\n",
    "    \n",
    "    while len(infectous)>0:\n",
    "        \n",
    "        # temporary list in which to append newest infected nodes\n",
    "        new_infected = set()\n",
    "    \n",
    "        # transmission process\n",
    "        for i in infectous.copy():\n",
    "            for j in Y.neighbors(i):\n",
    "                if j in susceptibles:\n",
    "                    p=np.random.random()\n",
    "                    if p<beta:\n",
    "                        new_infected.add(j)\n",
    "                        susceptibles.remove(j)\n",
    "\n",
    "        # recovery process (except for newest infected nodes)\n",
    "        for k in infectous.copy():\n",
    "            p=np.random.random()\n",
    "            if p<mu:\n",
    "                infectous.remove(k)\n",
    "                \n",
    "        # update process (old nodes still infected merged to the ones just infected)\n",
    "        infectous.update(new_infected)\n",
    "        \n",
    "        # store detected arrival times\n",
    "        for y in infectous:\n",
    "            if y in sentinels:\n",
    "                arr.append(t)\n",
    "                sentinels.remove(y)\n",
    "                count +=1\n",
    "        \n",
    "        # break the simulation if all the sentinels have been reached by the epidemic\n",
    "        if count == 100:\n",
    "            break\n",
    "        \n",
    "        # increase timestep\n",
    "        t+=1\n",
    "    \n",
    "    # at the end of the simulation, store the intermediate arrival times detected to the common list, assigning to sentinels \n",
    "    # not reached by the epidemic a time arrival equal to max(t)+1, where t is the maximum timestep reached before the number \n",
    "    # of infected nodes was 0\n",
    "    not_reached = [t]*(1000-count)\n",
    "    arr.extend(not_reached)\n",
    "    arr_times_2_2.extend(arr)"
   ]
  },
  {
   "cell_type": "markdown",
   "metadata": {},
   "source": [
    "*Here the boxplot of the distribution:*"
   ]
  },
  {
   "cell_type": "code",
   "execution_count": 22,
   "metadata": {
    "collapsed": false
   },
   "outputs": [
    {
     "data": {
      "image/png": "[encoded data removed]",
      "text/plain": [
       "<matplotlib.figure.Figure at 0x285a43ed1d0>"
      ]
     },
     "metadata": {},
     "output_type": "display_data"
    }
   ],
   "source": [
    "fig = plt.figure(0, figsize=(9, 6))\n",
    "plt.axis([0, 1, 0, 20])\n",
    "plt.boxplot(arr_times_2_2,1)\n",
    "plt.title('Distribution of arrival times')\n",
    "plt.xticks([1], ['Different Sentinels'])\n",
    "plt.show()"
   ]
  },
  {
   "cell_type": "markdown",
   "metadata": {},
   "source": [
    "*From the resulting plots, we can see how the two situations (same sentinels for each run, different sentinels per run) are pretty similar. The only thing that is quite different is the larger presence of outliers in the situation with different choices of sentinels per epidemic, and this is the natural consequence of the larger fortuity given by always different sets of sentinels.*"
   ]
  },
  {
   "cell_type": "markdown",
   "metadata": {},
   "source": [
    "* **2.3**"
   ]
  },
  {
   "cell_type": "markdown",
   "metadata": {},
   "source": [
    "*In this last point of the second part, we are required to compare the distribution of arrival times choosing sentinels at random (as done previously), with other choices of sentinels by computing some centrality metrics. <br>\n",
    "Unfortunately, since we are working with such a large-scale network, the choice of the metrics to be used is in some sense forced : with such a big network it is impossible to compute betweenness and closeness centralities, because computing shorter paths for all the nodes of the graph requires a too big computational effort (e.g.: for a graph with about 300k nodes the computational time of betweennes centrality is about 50 minutes, with one of 600k about 16 hours, becoming impossible for the case of our interest). <br>\n",
    "Then we are going to compare the \"random case\" to 4 top-bottom case metrics: degree centrality, eigenvector centrality, Page Rank, hub score.<br>\n",
    "Page Rank and hub score are variants of the eigenvector centrality, they are developed in particular for directed graphs but they are used for undirected ones simply thinking at their adges as directed in both directions. We could also compute authority score, but in an undirected graph it doesn't make much sense to compute it together with hub score, because they are strictly correlated ('a node is an authority if it is linked by hubs, it is a hub if it links to authorities').<br>\n",
    "Therefore, let's firstly identify top and bottom 1000 degree centrality ranked sentinels:*"
   ]
  },
  {
   "cell_type": "code",
   "execution_count": 23,
   "metadata": {
    "collapsed": true
   },
   "outputs": [],
   "source": [
    "# let's build a dictionary in which storing node ID and degree\n",
    "degreeCent = Y.degree()\n",
    "dgC = {i:degreeCent[i] for i in range(Y.vcount())}\n",
    "\n",
    "# sort the dictionary list of items by value\n",
    "sorted_dgC = sorted(dgC.items(), key=itemgetter(1))\n",
    "\n",
    "# now that we have the sorted list of tuples of nodes' degree, let's take the top 1,000 and the bottom 1,000 ranked\n",
    "top_dgC = [k for k,v in sorted_dgC[-1000:]]\n",
    "bottom_dgC = [k for k,v in sorted_dgC[:1000]]"
   ]
  },
  {
   "cell_type": "markdown",
   "metadata": {},
   "source": [
    "*At this point, since we will have to perform the SIR model for all top and bottom cases, let's define a function called 'epidemic' that will do it:*"
   ]
  },
  {
   "cell_type": "code",
   "execution_count": 24,
   "metadata": {
    "collapsed": true
   },
   "outputs": [],
   "source": [
    "# the fuction takes in input the graph, the sentinels we want to record arrival times, number of simulations, mu and beta\n",
    "# and returns a list containing all arrival times observed\n",
    "def epidemic(g, sentinel, runs, mu=0.2, beta=0.8):\n",
    "    \n",
    "    nodes = set(range(g.vcount()))\n",
    "    remaining4seeds = nodes.difference(set(sentinel))\n",
    "\n",
    "    nruns = runs\n",
    "\n",
    "    arrTimes_run = []\n",
    "\n",
    "    for _ in range(nruns):\n",
    "    \n",
    "        sent = set([] + sentinel)\n",
    "        \n",
    "        seed = set(random.sample(remaining4seeds, 10)) \n",
    "        infectous = {i for i in seed}\n",
    "        susceptibles = {i for i in nodes if i not in infectous}\n",
    "    \n",
    "        arr = []\n",
    "        t=1\n",
    "        count=0\n",
    "        \n",
    "        while len(infectous)>0:\n",
    "    \n",
    "            new_infected = set()\n",
    "    \n",
    "    # transmission process\n",
    "            for i in infectous.copy():\n",
    "                for j in g.neighbors(i):\n",
    "                    if j in susceptibles:\n",
    "                        p=np.random.random()\n",
    "                        if p<beta:\n",
    "                            new_infected.add(j)\n",
    "                            susceptibles.remove(j)\n",
    "\n",
    "    # recovery process\n",
    "            for k in infectous.copy():\n",
    "                p=np.random.random()\n",
    "                if p<mu:\n",
    "                    infectous.remove(k)\n",
    "                \n",
    "    # update process\n",
    "            infectous.update(new_infected)\n",
    "    \n",
    "    # arrival time detection\n",
    "            for y in infectous:\n",
    "                if y in sent:\n",
    "                    arr.append(t)\n",
    "                    sent.remove(y)\n",
    "                    count +=1\n",
    "        \n",
    "            if count == 100: \n",
    "                break\n",
    "\n",
    "            t+=1\n",
    "        \n",
    "        not_reached = [t]*(1000-count)\n",
    "        arr.extend(not_reached) \n",
    "        arrTimes_run.extend(arr)\n",
    "        \n",
    "    return arrTimes_run"
   ]
  },
  {
   "cell_type": "markdown",
   "metadata": {},
   "source": [
    "*Let's use the function just built to get the arrival times' distribution for top and bottom degree sentinels:*"
   ]
  },
  {
   "cell_type": "code",
   "execution_count": 25,
   "metadata": {
    "collapsed": true
   },
   "outputs": [],
   "source": [
    "topDg = epidemic(Y, top_dgC, 100)"
   ]
  },
  {
   "cell_type": "code",
   "execution_count": 26,
   "metadata": {
    "collapsed": true
   },
   "outputs": [],
   "source": [
    "bottomDg = epidemic(Y, bottom_dgC, 100)"
   ]
  },
  {
   "cell_type": "markdown",
   "metadata": {},
   "source": [
    "*Let's do the same for the other 3 cases:*"
   ]
  },
  {
   "cell_type": "code",
   "execution_count": 27,
   "metadata": {
    "collapsed": true
   },
   "outputs": [],
   "source": [
    "# eigenvector centrality\n",
    "evCent = Y.evcent()\n",
    "evC = {i:evCent[i] for i in range(Y.vcount())}\n",
    "sorted_evC = sorted(evC.items(), key=itemgetter(1))\n",
    "\n",
    "top_evC = [k for k,v in sorted_evC[-1000:]]\n",
    "bottom_evC = [k for k,v in sorted_evC[:1000]]"
   ]
  },
  {
   "cell_type": "code",
   "execution_count": 28,
   "metadata": {
    "collapsed": true
   },
   "outputs": [],
   "source": [
    "topEv = epidemic(Y, top_evC, 100)"
   ]
  },
  {
   "cell_type": "code",
   "execution_count": 29,
   "metadata": {
    "collapsed": true
   },
   "outputs": [],
   "source": [
    "bottomEv = epidemic(Y, bottom_evC, 100)"
   ]
  },
  {
   "cell_type": "code",
   "execution_count": 30,
   "metadata": {
    "collapsed": true
   },
   "outputs": [],
   "source": [
    "# Page Rank\n",
    "pgRank = Y.pagerank()\n",
    "pgr = {i:pgRank[i] for i in range(Y.vcount())}\n",
    "sorted_pgr = sorted(pgr.items(), key=itemgetter(1))\n",
    "\n",
    "top_pgr = [k for k,v in sorted_pgr[-1000:]]\n",
    "bottom_pgr = [k for k,v in sorted_pgr[:1000]]"
   ]
  },
  {
   "cell_type": "code",
   "execution_count": 31,
   "metadata": {
    "collapsed": true
   },
   "outputs": [],
   "source": [
    "topPgR = epidemic(Y, top_pgr, 100)"
   ]
  },
  {
   "cell_type": "code",
   "execution_count": 32,
   "metadata": {
    "collapsed": true
   },
   "outputs": [],
   "source": [
    "bottomPgR = epidemic(Y, bottom_pgr, 100)"
   ]
  },
  {
   "cell_type": "code",
   "execution_count": 33,
   "metadata": {
    "collapsed": true
   },
   "outputs": [],
   "source": [
    "# Hub score\n",
    "hubScore = Y.hub_score()\n",
    "hSc = {i:hubScore[i] for i in range(Y.vcount())}\n",
    "sorted_hSc = sorted(hSc.items(), key=itemgetter(1))\n",
    "\n",
    "top_hSc = [k for k,v in sorted_hSc[-1000:]]\n",
    "bottom_hSc = [k for k,v in sorted_hSc[:1000]]"
   ]
  },
  {
   "cell_type": "code",
   "execution_count": 34,
   "metadata": {
    "collapsed": true
   },
   "outputs": [],
   "source": [
    "topHb = epidemic(Y, top_hSc, 100)"
   ]
  },
  {
   "cell_type": "code",
   "execution_count": 35,
   "metadata": {
    "collapsed": true
   },
   "outputs": [],
   "source": [
    "bottomHb = epidemic(Y, bottom_hSc, 100)"
   ]
  },
  {
   "cell_type": "markdown",
   "metadata": {},
   "source": [
    "*Once simulated all different epidemic cases, let's build a figure with one boxplot for each distribution related to different choices of the sentinel nodes:*"
   ]
  },
  {
   "cell_type": "code",
   "execution_count": 37,
   "metadata": {
    "collapsed": false
   },
   "outputs": [
    {
     "data": {
      "image/png": "[encoded data removed]",
      "text/plain": [
       "<matplotlib.figure.Figure at 0x285a44e6fd0>"
      ]
     },
     "metadata": {},
     "output_type": "display_data"
    }
   ],
   "source": [
    "fig = plt.figure(0, figsize=(11, 6))\n",
    "plt.axis([0, 1, 0, 25])\n",
    "plt.boxplot([arr_times_2_2, topDg, bottomDg, topEv, bottomEv, topPgR, bottomPgR, topHb, bottomHb],1)\n",
    "plt.title('Distribution of arrival times')\n",
    "plt.xticks([1,2,3,4,5,6,7,8,9], ['Random', 'TopDg', 'BottomDg', 'TopEvC', 'BottomEvC', 'TopPgR', 'BottomPgR', 'TopHub', 'BottomHub'])\n",
    "plt.show()"
   ]
  },
  {
   "cell_type": "markdown",
   "metadata": {
    "collapsed": true
   },
   "source": [
    "*Looking at the plot above we can see how each strategy leads to different specific results.<br>\n",
    "Let's start considering the strategies that take into account the top ranked sentinels (for degree, eigenvector centrality, Page Rank, hub score). In each of these cases we can observe an objective improvement in the average time of disease detection with respect to the random choices of the sentinels (in the plot above it is represented the random case in which sentinels are chosen randomly for each different epidemic). This is also due to the fact that in these 4 top cases, for every simulation of the epidemic, all sentinels were always reached by the disease, turning from the status of susceptible into infected. <br>\n",
    "Very different is the situation of the 4 bottom cases, where never all the sentinels got reached. Among the 4, what could immediately catch the attention, is the fact that the situation with bottom degree ranked sentinels doesn't show a marked worsening in disease detection time with respect to the random case. Personally, I found it very strange, anyway after doing many simulations the results didn't change significantly. That may be due to the intrinsic features of the network considered, in which the number of hubs is very small with respect to its size, leading a random choice of the sentinels to pick low degree nodes with higher probability.<br> Very different is the situations of eigenvector centrality and hub score. The latter metric, being a generalization of the former, follows its behavior: eigenvector centrality is strongly dependent to neighborood characteristics of nodes, indeed the more important (better connected) is the neighbor, the more it will contribute in terms of node's score. Hence, since we are working with the whole graph, we have available its global information and this kind of metrics are very significant for the analysis. A little bit different is the Page Rank case: relying on the quality of links to determine how important a node is, in undirected graphs this metric is statistically close to the degree distribution of the network; they are generally not identical, but similar, and this can be also observed from the plot built above.*"
   ]
  },
  {
   "cell_type": "markdown",
   "metadata": {},
   "source": [
    "### Part 3"
   ]
  },
  {
   "cell_type": "markdown",
   "metadata": {},
   "source": [
    "* **3.1**"
   ]
  },
  {
   "cell_type": "markdown",
   "metadata": {},
   "source": [
    "*Starting from a random set of N sentinel nodes, identifying their neighbors, and the edges among them, means at the end having full information of the subgraph of Y.<br>\n",
    "Let's build it:*"
   ]
  },
  {
   "cell_type": "code",
   "execution_count": 38,
   "metadata": {
    "collapsed": false
   },
   "outputs": [],
   "source": [
    "# starting random set of 1,000 nodes\n",
    "random.seed('random')\n",
    "start_sent = random.sample(range(Y.vcount()), 1000)"
   ]
  },
  {
   "cell_type": "code",
   "execution_count": 39,
   "metadata": {
    "collapsed": false
   },
   "outputs": [],
   "source": [
    "# find starting-sentinels' neighbors\n",
    "neighb = []\n",
    "for i in start_sent:\n",
    "    neighb.extend(Y.neighbors(i))"
   ]
  },
  {
   "cell_type": "code",
   "execution_count": 40,
   "metadata": {
    "collapsed": false
   },
   "outputs": [],
   "source": [
    "# merge starting-sentinels and neighbors: now we have the subset of nodes of the subgraph\n",
    "start_sent.extend(neighb)\n",
    "sub_nodes = start_sent"
   ]
  },
  {
   "cell_type": "code",
   "execution_count": 41,
   "metadata": {
    "collapsed": true
   },
   "outputs": [],
   "source": [
    "# let's build the subgraph \n",
    "subY = Y.subgraph(sub_nodes)"
   ]
  },
  {
   "cell_type": "code",
   "execution_count": 42,
   "metadata": {
    "collapsed": false
   },
   "outputs": [
    {
     "data": {
      "text/plain": [
       "'IGRAPH UN-- 4582 14876 -- \\n+ attr: name (v)'"
      ]
     },
     "execution_count": 42,
     "metadata": {},
     "output_type": "execute_result"
    }
   ],
   "source": [
    "subY.summary()"
   ]
  },
  {
   "cell_type": "markdown",
   "metadata": {},
   "source": [
    "*At this point we have the subgraph from which we must create a 'better' set of nodes able to reduce the disease detection time of the epidemic. Let's build it by taking the top degree ranked nodes in the subgraph:*"
   ]
  },
  {
   "cell_type": "code",
   "execution_count": 43,
   "metadata": {
    "collapsed": true
   },
   "outputs": [],
   "source": [
    "# At first compute the degree centrality for every node of the subgraph, than do what we did before for the whole network\n",
    "subYdg = subY.degree()\n",
    "sbDg = {i:subYdg[i] for i in range(subY.vcount())}\n",
    "sorted_sbDg = sorted(sbDg.items(), key=itemgetter(1))\n",
    "\n",
    "# take 1,000 nodes corresponding to top degree ranked in the subgraph\n",
    "top_sbDg = [k for k,v in sorted_sbDg[-1000:]]"
   ]
  },
  {
   "cell_type": "markdown",
   "metadata": {},
   "source": [
    "*Now we have the sentinels chosen on the basis of top degree ranked in the subgraph available. <br>\n",
    "Let's now simulate epidemics taking into account the entire network, but using this time both the random choice of sentinels who gave shape to the subgraph considered in this part, and the top degree ranked sentinels of the subgraph built, in order to compare them and to see if we have an objective improvement of performances (reduction of disease detection time):* "
   ]
  },
  {
   "cell_type": "code",
   "execution_count": 44,
   "metadata": {
    "collapsed": true
   },
   "outputs": [],
   "source": [
    "subg_randSen = epidemic(Y, start_sent, 100)"
   ]
  },
  {
   "cell_type": "code",
   "execution_count": 45,
   "metadata": {
    "collapsed": true
   },
   "outputs": [],
   "source": [
    "subg_TopDg = epidemic(Y, top_sbDg, 100)"
   ]
  },
  {
   "cell_type": "code",
   "execution_count": 47,
   "metadata": {
    "collapsed": false
   },
   "outputs": [
    {
     "data": {
      "text/plain": [
       "6.6360599999999996"
      ]
     },
     "execution_count": 47,
     "metadata": {},
     "output_type": "execute_result"
    }
   ],
   "source": [
    "np.mean(subg_randSen)"
   ]
  },
  {
   "cell_type": "code",
   "execution_count": 48,
   "metadata": {
    "collapsed": false
   },
   "outputs": [
    {
     "data": {
      "text/plain": [
       "3.8430499999999999"
      ]
     },
     "execution_count": 48,
     "metadata": {},
     "output_type": "execute_result"
    }
   ],
   "source": [
    "np.mean(subg_TopDg)"
   ]
  },
  {
   "cell_type": "markdown",
   "metadata": {},
   "source": [
    "*Already looking at the average values of both cases we can notice an improvement. Then let's show that by means of boxplots:*"
   ]
  },
  {
   "cell_type": "code",
   "execution_count": 49,
   "metadata": {
    "collapsed": false
   },
   "outputs": [
    {
     "data": {
      "image/png": "[encoded data removed]",
      "text/plain": [
       "<matplotlib.figure.Figure at 0x285a458b940>"
      ]
     },
     "metadata": {},
     "output_type": "display_data"
    }
   ],
   "source": [
    "fig = plt.figure(0, figsize=(10, 6))\n",
    "plt.axis([0, 1, 0, 18])\n",
    "plt.boxplot([subg_randSen, subg_TopDg],1)\n",
    "plt.title('Distribution of arrival times')\n",
    "plt.xticks([1,2], ['Random', 'SubGTopDg'])\n",
    "plt.show()"
   ]
  },
  {
   "cell_type": "markdown",
   "metadata": {},
   "source": [
    "*From the plot, it can be interesting to note how the boxplot related to the case in which we use top degree sentinels found in the subgraph results 'flattened'. That can be explained by the fact that considering at random such a smaller portion of the graph will lead to have many nodes 'concentrated' in short range of degrees (this can be observed also in the plot we did at the beginning showing the degree distribution of the graph, in which the most of nodes' degrees are concentrated in the middle).*"
   ]
  },
  {
   "cell_type": "markdown",
   "metadata": {},
   "source": [
    "* **3.2**"
   ]
  },
  {
   "cell_type": "markdown",
   "metadata": {},
   "source": [
    "*In the previous point, starting from a random set of sentinel nodes and having available only the local information regarding those sentinels, their neighbors and the edges among them, we built another set of sentinels supposed to reduce the average time of disease detection in our graph.<br>\n",
    "As 'local information' we mean that we knew only the subgraph of Y given by the starting set of sentinels and the nodes in their neighborhoods. In such a situation I found reasonable to compute the degree centrality of the subgraph and use the top 1,000 ranked nodes as sentinels to record arrival times.<br>\n",
    "The result of this strategy was positive, as it is also shown by the boxplots displayed above.<br>\n",
    "Anyway, in the previous parts, we have seen that also other centrality metrics computed (eigenvector centrality, Page Rank, hub score), considered on their top rank cases, leaded us to similar good results.<br>\n",
    "Nevertheless, when I had to choose what strategy to use to address a situation in which only a small portion of the initial graph was known to me, I thought it would have been better to rely on the degree centrality metric, both because of its semplicity, and mostly because it is a measure that \"doesn't take care much\" of global properties of the graph.\n",
    "Therefore, we can say that for its characterics it well fit with the requests of the problem addressed, differently by, for example, the eigenvector centrality, in which neighboroods of nodes strongly affect their finel score.*"
   ]
  },
  {
   "cell_type": "markdown",
   "metadata": {},
   "source": [
    "**For any clarification, if required, all variables computed during the analysis are stored in my Jupyter Notebook store.**"
   ]
  }
 ],
 "metadata": {
  "anaconda-cloud": {},
  "kernelspec": {
   "display_name": "Python 2",
   "language": "python",
   "name": "python2"
  },
  "language_info": {
   "codemirror_mode": {
    "name": "ipython",
    "version": 2
   },
   "file_extension": ".py",
   "mimetype": "text/x-python",
   "name": "python",
   "nbconvert_exporter": "python",
   "pygments_lexer": "ipython2",
   "version": "2.7.9"
  }
 },
 "nbformat": 4,
 "nbformat_minor": 1
}
