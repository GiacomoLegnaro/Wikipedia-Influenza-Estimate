{
 "cells": [
  {
   "cell_type": "code",
   "execution_count": 94,
   "metadata": {
    "collapsed": false
   },
   "outputs": [],
   "source": [
    "fileDir = 'C:/Users/gavaz/Documents/MAGISTRALE/SECOND YEAR/DE/2'"
   ]
  },
  {
   "cell_type": "code",
   "execution_count": 95,
   "metadata": {
    "collapsed": true
   },
   "outputs": [],
   "source": [
    "import os\n",
    "import glob"
   ]
  },
  {
   "cell_type": "code",
   "execution_count": 96,
   "metadata": {
    "collapsed": true
   },
   "outputs": [],
   "source": [
    "keywords = ['Influenza','Febbre','Rinorrea','Mialgia']"
   ]
  },
  {
   "cell_type": "code",
   "execution_count": 97,
   "metadata": {
    "collapsed": false
   },
   "outputs": [],
   "source": [
    "def clean_file(directory,fileName,keywords):\n",
    "    with open(fileName, 'r') as doc:\n",
    "        for i, line in enumerate(doc):\n",
    "            if line.lstrip().startswith('it') or line.lstrip().startswith('it.wm'):\n",
    "                lineList = line.split()\n",
    "                if lineList[1] in keywords:            \n",
    "                    with open (directory + '/' + lineList[1] + '.txt','a') as output:\n",
    "                        output.write(fileName.split('-')[1] + '-' + fileName.split('-')[2] + ' ' \n",
    "                                     + lineList[1] + ' ' + lineList[2] + '\\n')  "
   ]
  },
  {
   "cell_type": "code",
   "execution_count": 98,
   "metadata": {
    "collapsed": false
   },
   "outputs": [],
   "source": [
    "for f in glob.glob(fileDir + \"/pageviews*\"):\n",
    "    clean_file(fileDir,f,keywords)"
   ]
  },
  {
   "cell_type": "code",
   "execution_count": null,
   "metadata": {
    "collapsed": true
   },
   "outputs": [],
   "source": []
  }
 ],
 "metadata": {
  "kernelspec": {
   "display_name": "Python 2",
   "language": "python",
   "name": "python2"
  },
  "language_info": {
   "codemirror_mode": {
    "name": "ipython",
    "version": 2
   },
   "file_extension": ".py",
   "mimetype": "text/x-python",
   "name": "python",
   "nbconvert_exporter": "python",
   "pygments_lexer": "ipython2",
   "version": "2.7.9"
  }
 },
 "nbformat": 4,
 "nbformat_minor": 1
}
