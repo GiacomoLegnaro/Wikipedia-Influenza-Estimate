{
 "cells": [
  {
   "cell_type": "code",
   "execution_count": 13,
   "metadata": {
    "collapsed": true
   },
   "outputs": [],
   "source": [
    "import gzip\n",
    "import glob\n",
    "import os\n",
    "import os.path"
   ]
  },
  {
   "cell_type": "code",
   "execution_count": 14,
   "metadata": {
    "collapsed": true
   },
   "outputs": [],
   "source": [
    "PATH_TO_FILE = '/Volumes/My Book/Wikimedia/pageviews/2016/'\n",
    "FILE_DIR = '/Volumes/My Book/Wikimedia/pageviews/2016/'"
   ]
  },
  {
   "cell_type": "code",
   "execution_count": 19,
   "metadata": {
    "collapsed": false
   },
   "outputs": [
    {
     "data": {
      "text/plain": [
       "['.DS_Store',\n",
       " '2016-02',\n",
       " 'pageviews-20160201-000000',\n",
       " 'pageviews-20160201-000000.gz']"
      ]
     },
     "execution_count": 19,
     "metadata": {},
     "output_type": "execute_result"
    }
   ],
   "source": [
    "os.listdir(FILE_DIR)"
   ]
  },
  {
   "cell_type": "code",
   "execution_count": null,
   "metadata": {
    "collapsed": false
   },
   "outputs": [
    {
     "name": "stdout",
     "output_type": "stream",
     "text": [
      ".DS_Store\n",
      "['pageviews-20160201-000000', 'gz']\n",
      "2016-02\n",
      "['pageviews-20160201-000000', 'gz']\n",
      "pageviews-20160201-000000\n",
      "['pageviews-20160201-000000', 'gz']\n",
      "pageviews-20160201-000000.gz\n",
      "['pageviews-20160201-000000', 'gz']\n",
      "/Volumes/My Book/Wikimedia/pageviews/2016/pageviews-20160201-000000.gz\n"
     ]
    }
   ],
   "source": [
    "for f in os.listdir(FILE_DIR):\n",
    "    print f\n",
    "    f_split = f.split('.')\n",
    "    print filename\n",
    "    if ((len(f_split) >= 2) and (f_split[-1] == 'gz')):\n",
    "        print FILE_DIR + f\n",
    "        with gzip.open(FILE_DIR + f, 'rb') as f_gz:\n",
    "            file_content = f_gz.read()\n",
    "            print file_content"
   ]
  },
  {
   "cell_type": "code",
   "execution_count": 3,
   "metadata": {
    "collapsed": false
   },
   "outputs": [
    {
     "ename": "NameError",
     "evalue": "name 'glob' is not defined",
     "output_type": "error",
     "traceback": [
      "\u001b[0;31m---------------------------------------------------------------------------\u001b[0m",
      "\u001b[0;31mNameError\u001b[0m                                 Traceback (most recent call last)",
      "\u001b[0;32m<ipython-input-3-738bc34a5803>\u001b[0m in \u001b[0;36m<module>\u001b[0;34m()\u001b[0m\n\u001b[0;32m----> 1\u001b[0;31m \u001b[0;32mfor\u001b[0m \u001b[0mgzip_path\u001b[0m \u001b[0;32min\u001b[0m \u001b[0mglob\u001b[0m\u001b[0;34m.\u001b[0m\u001b[0mglob\u001b[0m\u001b[0;34m(\u001b[0m\u001b[0mPATH_TO_FILE\u001b[0m \u001b[0;34m+\u001b[0m \u001b[0;34m\"/*.gz\"\u001b[0m\u001b[0;34m)\u001b[0m\u001b[0;34m:\u001b[0m\u001b[0;34m\u001b[0m\u001b[0m\n\u001b[0m\u001b[1;32m      2\u001b[0m     \u001b[0;32mif\u001b[0m \u001b[0mos\u001b[0m\u001b[0;34m.\u001b[0m\u001b[0mpath\u001b[0m\u001b[0;34m.\u001b[0m\u001b[0misdir\u001b[0m\u001b[0;34m(\u001b[0m\u001b[0mgzip_path\u001b[0m\u001b[0;34m)\u001b[0m \u001b[0;34m==\u001b[0m \u001b[0mFalse\u001b[0m\u001b[0;34m:\u001b[0m\u001b[0;34m\u001b[0m\u001b[0m\n\u001b[1;32m      3\u001b[0m         \u001b[0minF\u001b[0m \u001b[0;34m=\u001b[0m \u001b[0mgzip\u001b[0m\u001b[0;34m.\u001b[0m\u001b[0mopen\u001b[0m\u001b[0;34m(\u001b[0m\u001b[0mgzip_path\u001b[0m\u001b[0;34m,\u001b[0m \u001b[0;34m'rb'\u001b[0m\u001b[0;34m)\u001b[0m\u001b[0;34m\u001b[0m\u001b[0m\n\u001b[1;32m      4\u001b[0m         \u001b[0;31m# uncompress the gzip_path INTO THE 's' variable\u001b[0m\u001b[0;34m\u001b[0m\u001b[0;34m\u001b[0m\u001b[0m\n\u001b[1;32m      5\u001b[0m         \u001b[0ms\u001b[0m \u001b[0;34m=\u001b[0m \u001b[0minF\u001b[0m\u001b[0;34m.\u001b[0m\u001b[0mread\u001b[0m\u001b[0;34m(\u001b[0m\u001b[0;34m)\u001b[0m\u001b[0;34m\u001b[0m\u001b[0m\n",
      "\u001b[0;31mNameError\u001b[0m: name 'glob' is not defined"
     ]
    }
   ],
   "source": [
    "for gzip_path in glob.glob(PATH_TO_FILE + \"/*.gz\"):\n",
    "    if os.path.isdir(gzip_path) == False:\n",
    "        inF = gzip.open(gzip_path, 'rb')\n",
    "        # uncompress the gzip_path INTO THE 's' variable\n",
    "        s = inF.read()\n",
    "        inF.close()\n",
    "\n",
    "        # get gzip filename (without directories)\n",
    "        gzip_fname = os.path.basename(gzip_path)\n",
    "        # get original filename (remove 3 characters from the end: \".gz\")\n",
    "        fname = gzip_fname[:-3]\n",
    "        uncompressed_path = os.path.join(FILE_DIR, fname)\n",
    "\n",
    "        # store uncompressed file data from 's' variable\n",
    "        open(uncompressed_path, 'w').write(s)"
   ]
  },
  {
   "cell_type": "code",
   "execution_count": null,
   "metadata": {
    "collapsed": true
   },
   "outputs": [],
   "source": [
    "import gzip\n",
    "with gzip.open('file.txt.gz', 'rb') as f:\n",
    "    file_content = f.read()"
   ]
  }
 ],
 "metadata": {
  "kernelspec": {
   "display_name": "Python 2",
   "language": "python",
   "name": "python2"
  },
  "language_info": {
   "codemirror_mode": {
    "name": "ipython",
    "version": 2
   },
   "file_extension": ".py",
   "mimetype": "text/x-python",
   "name": "python",
   "nbconvert_exporter": "python",
   "pygments_lexer": "ipython2",
   "version": "2.7.9"
  }
 },
 "nbformat": 4,
 "nbformat_minor": 1
}
