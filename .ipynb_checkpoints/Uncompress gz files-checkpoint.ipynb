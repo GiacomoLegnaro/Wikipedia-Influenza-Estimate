{
 "cells": [
  {
   "cell_type": "code",
   "execution_count": 1,
   "metadata": {
    "collapsed": false
   },
   "outputs": [],
   "source": [
    "import urllib\n",
    "import shutil\n",
    "import requests\n",
    "import multiprocessing\n",
    "import os\n",
    "from bs4 import BeautifulSoup\n",
    "from joblib import Parallel, delayed\n",
    "from multiprocessing.dummy import Pool # use threads for I/O bound tasks"
   ]
  },
  {
   "cell_type": "code",
   "execution_count": 2,
   "metadata": {
    "collapsed": true
   },
   "outputs": [],
   "source": [
    "def makeDirectory(path):\n",
    "    \"\"\"\n",
    "    Return the directory path where save the documents\n",
    "\n",
    "    :param path: path where create the new folder\n",
    "    :param directory: name of the new folder\n",
    "    \"\"\"\n",
    "    try:\n",
    "        os.makedirs(os.path.join(path))\n",
    "    except OSError:\n",
    "        if not os.path.isdir(os.path.join(path)):\n",
    "            raise\n",
    "    return os.path.join(path)"
   ]
  },
  {
   "cell_type": "code",
   "execution_count": 9,
   "metadata": {
    "collapsed": true
   },
   "outputs": [],
   "source": [
    "def download_data(yr,mth,l_dl):\n",
    "    path = yr + '/' + mth + '/' + l_dl\n",
    "    print(yr + ' ' + mth + ' ' + l_dl + ' - Progress ' + str(round(float(ct) / len(link_dl), 2))+'%')\n",
    "    wikimedia.retrieve(main_url + path, '/Users/giacomolegnaro/Downloads/Wikimedia/' + l_dl)\n",
    "    source = '/Users/giacomolegnaro/Downloads/Wikimedia/'+l_dl\n",
    "    dest = '/Volumes/My Book/Wikimedia/pageviews/'+ path\n",
    "    shutil.move(source,dest) \n",
    "    ct += 1\n",
    "    return ct"
   ]
  },
  {
   "cell_type": "code",
   "execution_count": 10,
   "metadata": {
    "collapsed": true
   },
   "outputs": [],
   "source": [
    "num_cores = multiprocessing.cpu_count()"
   ]
  },
  {
   "cell_type": "code",
   "execution_count": 11,
   "metadata": {
    "collapsed": true
   },
   "outputs": [],
   "source": [
    "wikimedia = urllib.URLopener()"
   ]
  },
  {
   "cell_type": "code",
   "execution_count": 12,
   "metadata": {
    "collapsed": true
   },
   "outputs": [],
   "source": [
    "main_url = \"https://dumps.wikimedia.org/other/pageviews/\""
   ]
  },
  {
   "cell_type": "code",
   "execution_count": null,
   "metadata": {
    "collapsed": true
   },
   "outputs": [],
   "source": [
    "https://dumps.wikimedia.org/other/pageviews/2016/2016-01/"
   ]
  },
  {
   "cell_type": "code",
   "execution_count": 18,
   "metadata": {
    "collapsed": false
   },
   "outputs": [
    {
     "name": "stdout",
     "output_type": "stream",
     "text": [
      "2016 2016-02\n"
     ]
    },
    {
     "data": {
      "text/plain": [
       "'/Volumes/My Book/Wikimedia/pageviews/2016/2016-02/'"
      ]
     },
     "execution_count": 18,
     "metadata": {},
     "output_type": "execute_result"
    }
   ],
   "source": [
    "r = requests.get(main_url)\n",
    "soup = BeautifulSoup(r.content, \"html.parser\")\n",
    "year = [link.get('href').encode('utf8') for link in soup.find_all('a') if link.get('href') == link.string]\n",
    "#for yr in year:\n",
    "yr = '2016'#\n",
    "r = requests.get(main_url + yr + '/') \n",
    "soup = BeautifulSoup(r.content, \"html.parser\")\n",
    "month = [link.get('href').encode('utf8') for link in soup.find_all('a') if link.get('href') == link.string]\n",
    "#for mth in month:\n",
    "mth = '2016-02'\n",
    "print(yr + ' ' + mth)\n",
    "r = requests.get(main_url + yr + '/' + mth + '/')\n",
    "soup = BeautifulSoup(r.content, \"html.parser\")\n",
    "link_dl = [link.get('href').encode('utf8') for link in soup.find_all('a') if ((link.get('href') == link.string) and (link.string.split('-')[0] == 'pageviews'))]\n",
    "ct = 0\n",
    "print len(link_dl)\n",
    "makeDirectory('/Volumes/My Book/Wikimedia/pageviews/' + yr + '/' + mth + '/')"
   ]
  },
  {
   "cell_type": "code",
   "execution_count": 20,
   "metadata": {
    "collapsed": true
   },
   "outputs": [],
   "source": [
    "p = Pool(3)"
   ]
  },
  {
   "cell_type": "code",
   "execution_count": 21,
   "metadata": {
    "collapsed": false,
    "scrolled": true
   },
   "outputs": [
    {
     "name": "stdout",
     "output_type": "stream",
     "text": [
      "2016 2016-02 pageviews-20160201-000000.gz - Progress 0.0%\n",
      "2016 2016-02 pageviews-20160203-100000.gz - Progress 0.0%\n",
      "2016 2016-02 pageviews-20160205-200000.gz - Progress 0.0%\n",
      "2016 2016-02 pageviews-20160201-010000.gz - Progress 0.0%\n",
      "2016 2016-02 pageviews-20160203-110000.gz - Progress 0.0%\n",
      "2016 2016-02 pageviews-20160205-210000.gz - Progress 0.0%\n",
      "2016 2016-02 pageviews-20160201-020000.gz - Progress 0.0%\n",
      "2016 2016-02 pageviews-20160203-120000.gz - Progress 0.0%\n",
      "2016 2016-02 pageviews-20160205-220000.gz - Progress 0.0%\n",
      "2016 2016-02 pageviews-20160201-030000.gz - Progress 0.0%\n",
      "2016 2016-02 pageviews-20160205-230000.gz - Progress 0.0%\n",
      "2016 2016-02 pageviews-20160203-130000.gz - Progress 0.0%\n",
      "2016 2016-02 pageviews-20160201-040000.gz - Progress 0.0%\n",
      "2016 2016-02 pageviews-20160201-050000.gz - Progress 0.0%\n",
      "2016 2016-02 pageviews-20160206-000000.gz - Progress 0.0%\n",
      "2016 2016-02 pageviews-20160203-140000.gz - Progress 0.0%\n",
      "2016 2016-02 pageviews-20160201-060000.gz - Progress 0.0%\n",
      "2016 2016-02 pageviews-20160206-010000.gz - Progress 0.0%\n",
      "2016 2016-02 pageviews-20160203-150000.gz - Progress 0.0%\n",
      "2016 2016-02 pageviews-20160201-070000.gz - Progress 0.0%\n",
      "2016 2016-02 pageviews-20160206-020000.gz - Progress 0.0%\n",
      "2016 2016-02 pageviews-20160201-080000.gz - Progress 0.0%\n",
      "2016 2016-02 pageviews-20160206-030000.gz - Progress 0.0%\n",
      "2016 2016-02 pageviews-20160203-160000.gz - Progress 0.0%\n",
      "2016 2016-02 pageviews-20160206-040000.gz - Progress 0.0%\n",
      "2016 2016-02 pageviews-20160201-090000.gz - Progress 0.0%\n",
      "2016 2016-02 pageviews-20160206-050000.gz - Progress 0.0%\n",
      "2016 2016-02 pageviews-20160203-170000.gz - Progress 0.0%\n",
      "2016 2016-02 pageviews-20160201-100000.gz - Progress 0.0%\n",
      "2016 2016-02 pageviews-20160206-060000.gz - Progress 0.0%\n",
      "2016 2016-02 pageviews-20160203-180000.gz - Progress 0.0%\n",
      "2016 2016-02 pageviews-20160206-070000.gz - Progress 0.0%\n",
      "2016 2016-02 pageviews-20160201-110000.gz - Progress 0.0%\n",
      "2016 2016-02 pageviews-20160206-080000.gz - Progress 0.0%\n",
      "2016 2016-02 pageviews-20160201-120000.gz - Progress 0.0%\n",
      "2016 2016-02 pageviews-20160203-190000.gz - Progress 0.0%\n",
      "2016 2016-02 pageviews-20160206-090000.gz - Progress 0.0%\n",
      "2016 2016-02 pageviews-20160201-130000.gz - Progress 0.0%\n",
      "2016 2016-02 pageviews-20160203-200000.gz - Progress 0.0%\n",
      "2016 2016-02 pageviews-20160206-100000.gz - Progress 0.0%\n",
      "2016 2016-02 pageviews-20160201-140000.gz - Progress 0.0%\n",
      "2016 2016-02 pageviews-20160206-110000.gz - Progress 0.0%\n",
      "2016 2016-02 pageviews-20160203-210000.gz - Progress 0.0%\n",
      "2016 2016-02 pageviews-20160206-120000.gz - Progress 0.0%\n",
      "2016 2016-02 pageviews-20160201-150000.gz - Progress 0.0%\n",
      "2016 2016-02 pageviews-20160203-220000.gz - Progress 0.0%\n",
      "2016 2016-02 pageviews-20160206-130000.gz - Progress 0.0%\n",
      "2016 2016-02 pageviews-20160201-160000.gz - Progress 0.0%\n",
      "2016 2016-02 pageviews-20160203-230000.gz - Progress 0.0%\n",
      "2016 2016-02 pageviews-20160206-140000.gz - Progress 0.0%\n",
      "2016 2016-02 pageviews-20160201-170000.gz - Progress 0.0%\n",
      "2016 2016-02 pageviews-20160204-000000.gz - Progress 0.0%\n",
      "2016 2016-02 pageviews-20160206-150000.gz - Progress 0.0%\n",
      "2016 2016-02 pageviews-20160204-010000.gz - Progress 0.0%\n",
      "2016 2016-02 pageviews-20160201-180000.gz - Progress 0.0%\n",
      "2016 2016-02 pageviews-20160206-160000.gz - Progress 0.0%\n",
      "2016 2016-02 pageviews-20160204-020000.gz - Progress 0.0%\n",
      "2016 2016-02 pageviews-20160201-190000.gz - Progress 0.0%\n",
      "2016 2016-02 pageviews-20160206-170000.gz - Progress 0.0%\n",
      "2016 2016-02 pageviews-20160204-030000.gz - Progress 0.0%\n",
      "2016 2016-02 pageviews-20160201-200000.gz - Progress 0.0%\n",
      "2016 2016-02 pageviews-20160204-040000.gz - Progress 0.0%\n",
      "2016 2016-02 pageviews-20160206-180000.gz - Progress 0.0%\n",
      "2016 2016-02 pageviews-20160204-050000.gz - Progress 0.0%\n",
      "2016 2016-02 pageviews-20160201-210000.gz - Progress 0.0%\n",
      "2016 2016-02 pageviews-20160204-060000.gz - Progress 0.0%\n",
      "2016 2016-02 pageviews-20160206-190000.gz - Progress 0.0%\n",
      "2016 2016-02 pageviews-20160204-070000.gz - Progress 0.0%\n",
      "2016 2016-02 pageviews-20160201-220000.gz - Progress 0.0%\n",
      "2016 2016-02 pageviews-20160204-080000.gz - Progress 0.0%\n",
      "2016 2016-02 pageviews-20160206-200000.gz - Progress 0.0%\n",
      "2016 2016-02 pageviews-20160201-230000.gz - Progress 0.0%\n",
      "2016 2016-02 pageviews-20160204-090000.gz - Progress 0.0%\n",
      "2016 2016-02 pageviews-20160206-210000.gz - Progress 0.0%\n",
      "2016 2016-02 pageviews-20160202-000000.gz - Progress 0.0%\n",
      "2016 2016-02 pageviews-20160204-100000.gz - Progress 0.0%\n",
      "2016 2016-02 pageviews-20160206-220000.gz - Progress 0.0%\n",
      "2016 2016-02 pageviews-20160202-010000.gz - Progress 0.0%\n",
      "2016 2016-02 pageviews-20160204-110000.gz - Progress 0.0%\n",
      "2016 2016-02 pageviews-20160202-020000.gz - Progress 0.0%\n",
      "2016 2016-02 pageviews-20160206-230000.gz - Progress 0.0%\n",
      "2016 2016-02 pageviews-20160202-030000.gz - Progress 0.0%\n",
      "2016 2016-02 pageviews-20160204-120000.gz - Progress 0.0%\n",
      "2016 2016-02 pageviews-20160207-000000.gz - Progress 0.0%\n",
      "2016 2016-02 pageviews-20160202-040000.gz - Progress 0.0%\n",
      "2016 2016-02 pageviews-20160204-130000.gz - Progress 0.0%\n",
      "2016 2016-02 pageviews-20160207-010000.gz - Progress 0.0%\n",
      "2016 2016-02 pageviews-20160202-050000.gz - Progress 0.0%\n",
      "2016 2016-02 pageviews-20160207-020000.gz - Progress 0.0%\n",
      "2016 2016-02 pageviews-20160202-060000.gz - Progress 0.0%\n",
      "2016 2016-02 pageviews-20160204-140000.gz - Progress 0.0%\n",
      "2016 2016-02 pageviews-20160207-030000.gz - Progress 0.0%\n",
      "2016 2016-02 pageviews-20160202-070000.gz - Progress 0.0%\n",
      "2016 2016-02 pageviews-20160204-150000.gz - Progress 0.0%\n",
      "2016 2016-02 pageviews-20160207-040000.gz - Progress 0.0%\n",
      "2016 2016-02 pageviews-20160202-080000.gz - Progress 0.0%\n",
      "2016 2016-02 pageviews-20160207-050000.gz - Progress 0.0%\n",
      "2016 2016-02 pageviews-20160204-160000.gz - Progress 0.0%\n",
      "2016 2016-02 pageviews-20160202-090000.gz - Progress 0.0%\n",
      "2016 2016-02 pageviews-20160207-060000.gz - Progress 0.0%\n",
      "2016 2016-02 pageviews-20160207-070000.gz - Progress 0.0%\n",
      "2016 2016-02 pageviews-20160202-100000.gz - Progress 0.0%\n",
      "2016 2016-02 pageviews-20160204-170000.gz - Progress 0.0%\n",
      "2016 2016-02 pageviews-20160207-080000.gz - Progress 0.0%\n",
      "2016 2016-02 pageviews-20160202-110000.gz - Progress 0.0%\n",
      "2016 2016-02 pageviews-20160204-180000.gz - Progress 0.0%\n",
      "2016 2016-02 pageviews-20160207-090000.gz - Progress 0.0%\n",
      "2016 2016-02 pageviews-20160202-120000.gz - Progress 0.0%\n",
      "2016 2016-02 pageviews-20160207-100000.gz - Progress 0.0%\n",
      "2016 2016-02 pageviews-20160204-190000.gz - Progress 0.0%\n",
      "2016 2016-02 pageviews-20160202-130000.gz - Progress 0.0%\n",
      "2016 2016-02 pageviews-20160207-110000.gz - Progress 0.0%\n",
      "2016 2016-02 pageviews-20160204-200000.gz - Progress 0.0%\n",
      "2016 2016-02 pageviews-20160207-120000.gz - Progress 0.0%\n",
      "2016 2016-02 pageviews-20160202-140000.gz - Progress 0.0%\n",
      "2016 2016-02 pageviews-20160204-210000.gz - Progress 0.0%\n",
      "2016 2016-02 pageviews-20160207-130000.gz - Progress 0.0%\n",
      "2016 2016-02 pageviews-20160202-150000.gz - Progress 0.0%\n",
      "2016 2016-02 pageviews-20160204-220000.gz - Progress 0.0%\n",
      "2016 2016-02 pageviews-20160207-140000.gz - Progress 0.0%\n",
      "2016 2016-02 pageviews-20160202-160000.gz - Progress 0.0%\n",
      "2016 2016-02 pageviews-20160204-230000.gz - Progress 0.0%\n",
      "2016 2016-02 pageviews-20160207-150000.gz - Progress 0.0%\n",
      "2016 2016-02 pageviews-20160202-170000.gz - Progress 0.0%\n",
      "2016 2016-02 pageviews-20160205-000000.gz - Progress 0.0%\n",
      "2016 2016-02 pageviews-20160207-160000.gz - Progress 0.0%\n",
      "2016 2016-02 pageviews-20160202-180000.gz - Progress 0.0%\n",
      "2016 2016-02 pageviews-20160205-010000.gz - Progress 0.0%\n",
      "2016 2016-02 pageviews-20160205-020000.gz - Progress 0.0%\n",
      "2016 2016-02 pageviews-20160207-170000.gz - Progress 0.0%\n",
      "2016 2016-02 pageviews-20160202-190000.gz - Progress 0.0%\n",
      "2016 2016-02 pageviews-20160205-030000.gz - Progress 0.0%\n",
      "2016 2016-02 pageviews-20160207-180000.gz - Progress 0.0%\n",
      "2016 2016-02 pageviews-20160202-200000.gz - Progress 0.0%\n",
      "2016 2016-02 pageviews-20160205-040000.gz - Progress 0.0%\n",
      "2016 2016-02 pageviews-20160205-050000.gz - Progress 0.0%\n",
      "2016 2016-02 pageviews-20160207-190000.gz - Progress 0.0%\n",
      "2016 2016-02 pageviews-20160202-210000.gz - Progress 0.0%\n",
      "2016 2016-02 pageviews-20160205-060000.gz - Progress 0.0%\n",
      "2016 2016-02 pageviews-20160207-200000.gz - Progress 0.0%\n",
      "2016 2016-02 pageviews-20160205-070000.gz - Progress 0.0%\n",
      "2016 2016-02 pageviews-20160202-220000.gz - Progress 0.0%\n",
      "2016 2016-02 pageviews-20160205-080000.gz - Progress 0.0%\n",
      "2016 2016-02 pageviews-20160207-210000.gz - Progress 0.0%\n",
      "2016 2016-02 pageviews-20160202-230000.gz - Progress 0.0%\n",
      "2016 2016-02 pageviews-20160205-090000.gz - Progress 0.0%\n",
      "2016 2016-02 pageviews-20160207-220000.gz - Progress 0.0%\n",
      "2016 2016-02 pageviews-20160203-000000.gz - Progress 0.0%\n",
      "2016 2016-02 pageviews-20160205-100000.gz - Progress 0.0%\n",
      "2016 2016-02 pageviews-20160207-230000.gz - Progress 0.0%\n",
      "2016 2016-02 pageviews-20160203-010000.gz - Progress 0.0%\n",
      "2016 2016-02 pageviews-20160205-110000.gz - Progress 0.0%\n",
      "2016 2016-02 pageviews-20160203-020000.gz - Progress 0.0%\n",
      "2016 2016-02 pageviews-20160208-000000.gz - Progress 0.0%\n",
      "2016 2016-02 pageviews-20160205-120000.gz - Progress 0.0%\n",
      "2016 2016-02 pageviews-20160203-030000.gz - Progress 0.0%\n",
      "2016 2016-02 pageviews-20160208-010000.gz - Progress 0.0%\n",
      "2016 2016-02 pageviews-20160205-130000.gz - Progress 0.0%\n",
      "2016 2016-02 pageviews-20160203-040000.gz - Progress 0.0%\n",
      "2016 2016-02 pageviews-20160208-020000.gz - Progress 0.0%\n",
      "2016 2016-02 pageviews-20160203-050000.gz - Progress 0.0%\n",
      "2016 2016-02 pageviews-20160208-030000.gz - Progress 0.0%\n",
      "2016 2016-02 pageviews-20160205-140000.gz - Progress 0.0%\n",
      "2016 2016-02 pageviews-20160203-060000.gz - Progress 0.0%\n",
      "2016 2016-02 pageviews-20160208-040000.gz - Progress 0.0%\n",
      "2016 2016-02 pageviews-20160205-150000.gz - Progress 0.0%\n",
      "2016 2016-02 pageviews-20160208-050000.gz - Progress 0.0%\n",
      "2016 2016-02 pageviews-20160203-070000.gz - Progress 0.0%\n",
      "2016 2016-02 pageviews-20160208-060000.gz - Progress 0.0%\n",
      "2016 2016-02 pageviews-20160203-080000.gz - Progress 0.0%\n",
      "2016 2016-02 pageviews-20160205-160000.gz - Progress 0.0%\n",
      "2016 2016-02 pageviews-20160208-070000.gz - Progress 0.0%\n",
      "2016 2016-02 pageviews-20160203-090000.gz - Progress 0.0%\n",
      "2016 2016-02 pageviews-20160205-170000.gz - Progress 0.0%\n",
      "2016 2016-02 pageviews-20160208-080000.gz - Progress 0.0%\n",
      "2016 2016-02 pageviews-20160210-160000.gz - Progress 0.0%\n",
      "2016 2016-02 pageviews-20160208-090000.gz - Progress 0.0%\n",
      "2016 2016-02 pageviews-20160205-180000.gz - Progress 0.0%\n",
      "2016 2016-02 pageviews-20160210-170000.gz - Progress 0.0%\n",
      "2016 2016-02 pageviews-20160208-100000.gz - Progress 0.0%\n",
      "2016 2016-02 pageviews-20160205-190000.gz - Progress 0.0%\n",
      "2016 2016-02 pageviews-20160210-180000.gz - Progress 0.0%\n",
      "2016 2016-02 pageviews-20160208-110000.gz - Progress 0.0%\n",
      "2016 2016-02 pageviews-20160213-020000.gz - Progress 0.0%\n",
      "2016 2016-02 pageviews-20160213-030000.gz - Progress 0.0%\n",
      "2016 2016-02 pageviews-20160208-120000.gz - Progress 0.0%\n",
      "2016 2016-02 pageviews-20160210-190000.gz - Progress 0.0%\n",
      "2016 2016-02 pageviews-20160213-040000.gz - Progress 0.0%\n",
      "2016 2016-02 pageviews-20160208-130000.gz - Progress 0.0%\n",
      "2016 2016-02 pageviews-20160210-200000.gz - Progress 0.0%\n",
      "2016 2016-02 pageviews-20160213-050000.gz - Progress 0.0%\n",
      "2016 2016-02 pageviews-20160213-060000.gz - Progress 0.0%\n",
      "2016 2016-02 pageviews-20160208-140000.gz - Progress 0.0%\n",
      "2016 2016-02 pageviews-20160210-210000.gz - Progress 0.0%\n",
      "2016 2016-02 pageviews-20160213-070000.gz - Progress 0.0%\n",
      "2016 2016-02 pageviews-20160208-150000.gz - Progress 0.0%\n",
      "2016 2016-02 pageviews-20160210-220000.gz - Progress 0.0%\n",
      "2016 2016-02 pageviews-20160213-080000.gz - Progress 0.0%\n",
      "2016 2016-02 pageviews-20160213-090000.gz - Progress 0.0%\n",
      "2016 2016-02 pageviews-20160208-160000.gz - Progress 0.0%\n",
      "2016 2016-02 pageviews-20160210-230000.gz - Progress 0.0%\n",
      "2016 2016-02 pageviews-20160213-100000.gz - Progress 0.0%\n",
      "2016 2016-02 pageviews-20160211-000000.gz - Progress 0.0%\n",
      "2016 2016-02 pageviews-20160208-170000.gz - Progress 0.0%\n",
      "2016 2016-02 pageviews-20160213-110000.gz - Progress 0.0%\n",
      "2016 2016-02 pageviews-20160211-010000.gz - Progress 0.0%\n",
      "2016 2016-02 pageviews-20160208-180000.gz - Progress 0.0%\n",
      "2016 2016-02 pageviews-20160213-120000.gz - Progress 0.0%\n",
      "2016 2016-02 pageviews-20160211-020000.gz - Progress 0.0%\n",
      "2016 2016-02 pageviews-20160208-190000.gz - Progress 0.0%\n",
      "2016 2016-02 pageviews-20160211-030000.gz - Progress 0.0%\n",
      "2016 2016-02 pageviews-20160213-130000.gz - Progress 0.0%\n",
      "2016 2016-02 pageviews-20160211-040000.gz - Progress 0.0%\n",
      "2016 2016-02 pageviews-20160208-200000.gz - Progress 0.0%\n",
      "2016 2016-02 pageviews-20160213-140000.gz - Progress 0.0%\n",
      "2016 2016-02 pageviews-20160211-050000.gz - Progress 0.0%\n",
      "2016 2016-02 pageviews-20160208-210000.gz - Progress 0.0%\n",
      "2016 2016-02 pageviews-20160211-060000.gz - Progress 0.0%\n",
      "2016 2016-02 pageviews-20160213-150000.gz - Progress 0.0%\n",
      "2016 2016-02 pageviews-20160211-070000.gz - Progress 0.0%\n",
      "2016 2016-02 pageviews-20160208-220000.gz - Progress 0.0%\n",
      "2016 2016-02 pageviews-20160213-160000.gz - Progress 0.0%\n",
      "2016 2016-02 pageviews-20160211-080000.gz - Progress 0.0%\n",
      "2016 2016-02 pageviews-20160213-170000.gz - Progress 0.0%\n",
      "2016 2016-02 pageviews-20160211-090000.gz - Progress 0.0%\n",
      "2016 2016-02 pageviews-20160208-230000.gz - Progress 0.0%\n",
      "2016 2016-02 pageviews-20160211-100000.gz - Progress 0.0%\n",
      "2016 2016-02 pageviews-20160213-180000.gz - Progress 0.0%\n",
      "2016 2016-02 pageviews-20160209-000000.gz - Progress 0.0%\n",
      "2016 2016-02 pageviews-20160209-010000.gz - Progress 0.0%\n",
      "2016 2016-02 pageviews-20160211-110000.gz - Progress 0.0%\n",
      "2016 2016-02 pageviews-20160213-190000.gz - Progress 0.0%\n",
      "2016 2016-02 pageviews-20160209-020000.gz - Progress 0.0%\n",
      "2016 2016-02 pageviews-20160211-120000.gz - Progress 0.0%\n",
      "2016 2016-02 pageviews-20160209-030000.gz - Progress 0.0%\n",
      "2016 2016-02 pageviews-20160213-200000.gz - Progress 0.0%\n",
      "2016 2016-02 pageviews-20160209-040000.gz - Progress 0.0%\n",
      "2016 2016-02 pageviews-20160211-130000.gz - Progress 0.0%\n",
      "2016 2016-02 pageviews-20160215-120000.gz - Progress 0.0%\n",
      "2016 2016-02 pageviews-20160217-220000.gz - Progress 0.0%\n"
     ]
    },
    {
     "ename": "IOError",
     "evalue": "('http error', 503, 'Service Temporarily Unavailable', <httplib.HTTPMessage instance at 0x103a73758>)",
     "output_type": "error",
     "traceback": [
      "\u001b[0;31m---------------------------------------------------------------------------\u001b[0m",
      "\u001b[0;31mIOError\u001b[0m                                   Traceback (most recent call last)",
      "\u001b[0;32m<ipython-input-21-6b45d1d97d02>\u001b[0m in \u001b[0;36m<module>\u001b[0;34m()\u001b[0m\n\u001b[0;32m----> 1\u001b[0;31m \u001b[0mct\u001b[0m \u001b[0;34m=\u001b[0m \u001b[0mp\u001b[0m\u001b[0;34m.\u001b[0m\u001b[0mmap\u001b[0m\u001b[0;34m(\u001b[0m\u001b[0;32mlambda\u001b[0m \u001b[0ml_dl\u001b[0m\u001b[0;34m:\u001b[0m \u001b[0mdownload_data\u001b[0m\u001b[0;34m(\u001b[0m\u001b[0myr\u001b[0m\u001b[0;34m,\u001b[0m\u001b[0mmth\u001b[0m\u001b[0;34m,\u001b[0m\u001b[0ml_dl\u001b[0m\u001b[0;34m,\u001b[0m\u001b[0mct\u001b[0m\u001b[0;34m)\u001b[0m\u001b[0;34m,\u001b[0m \u001b[0mlink_dl\u001b[0m\u001b[0;34m)\u001b[0m \u001b[0;31m# download 3 files at a time\u001b[0m\u001b[0;34m\u001b[0m\u001b[0m\n\u001b[0m",
      "\u001b[0;32m/Users/giacomolegnaro/anaconda/lib/python2.7/multiprocessing/pool.pyc\u001b[0m in \u001b[0;36mmap\u001b[0;34m(self, func, iterable, chunksize)\u001b[0m\n\u001b[1;32m    249\u001b[0m         '''\n\u001b[1;32m    250\u001b[0m         \u001b[0;32massert\u001b[0m \u001b[0mself\u001b[0m\u001b[0;34m.\u001b[0m\u001b[0m_state\u001b[0m \u001b[0;34m==\u001b[0m \u001b[0mRUN\u001b[0m\u001b[0;34m\u001b[0m\u001b[0m\n\u001b[0;32m--> 251\u001b[0;31m         \u001b[0;32mreturn\u001b[0m \u001b[0mself\u001b[0m\u001b[0;34m.\u001b[0m\u001b[0mmap_async\u001b[0m\u001b[0;34m(\u001b[0m\u001b[0mfunc\u001b[0m\u001b[0;34m,\u001b[0m \u001b[0miterable\u001b[0m\u001b[0;34m,\u001b[0m \u001b[0mchunksize\u001b[0m\u001b[0;34m)\u001b[0m\u001b[0;34m.\u001b[0m\u001b[0mget\u001b[0m\u001b[0;34m(\u001b[0m\u001b[0;34m)\u001b[0m\u001b[0;34m\u001b[0m\u001b[0m\n\u001b[0m\u001b[1;32m    252\u001b[0m \u001b[0;34m\u001b[0m\u001b[0m\n\u001b[1;32m    253\u001b[0m     \u001b[0;32mdef\u001b[0m \u001b[0mimap\u001b[0m\u001b[0;34m(\u001b[0m\u001b[0mself\u001b[0m\u001b[0;34m,\u001b[0m \u001b[0mfunc\u001b[0m\u001b[0;34m,\u001b[0m \u001b[0miterable\u001b[0m\u001b[0;34m,\u001b[0m \u001b[0mchunksize\u001b[0m\u001b[0;34m=\u001b[0m\u001b[0;36m1\u001b[0m\u001b[0;34m)\u001b[0m\u001b[0;34m:\u001b[0m\u001b[0;34m\u001b[0m\u001b[0m\n",
      "\u001b[0;32m/Users/giacomolegnaro/anaconda/lib/python2.7/multiprocessing/pool.pyc\u001b[0m in \u001b[0;36mget\u001b[0;34m(self, timeout)\u001b[0m\n\u001b[1;32m    556\u001b[0m             \u001b[0;32mreturn\u001b[0m \u001b[0mself\u001b[0m\u001b[0;34m.\u001b[0m\u001b[0m_value\u001b[0m\u001b[0;34m\u001b[0m\u001b[0m\n\u001b[1;32m    557\u001b[0m         \u001b[0;32melse\u001b[0m\u001b[0;34m:\u001b[0m\u001b[0;34m\u001b[0m\u001b[0m\n\u001b[0;32m--> 558\u001b[0;31m             \u001b[0;32mraise\u001b[0m \u001b[0mself\u001b[0m\u001b[0;34m.\u001b[0m\u001b[0m_value\u001b[0m\u001b[0;34m\u001b[0m\u001b[0m\n\u001b[0m\u001b[1;32m    559\u001b[0m \u001b[0;34m\u001b[0m\u001b[0m\n\u001b[1;32m    560\u001b[0m     \u001b[0;32mdef\u001b[0m \u001b[0m_set\u001b[0m\u001b[0;34m(\u001b[0m\u001b[0mself\u001b[0m\u001b[0;34m,\u001b[0m \u001b[0mi\u001b[0m\u001b[0;34m,\u001b[0m \u001b[0mobj\u001b[0m\u001b[0;34m)\u001b[0m\u001b[0;34m:\u001b[0m\u001b[0;34m\u001b[0m\u001b[0m\n",
      "\u001b[0;31mIOError\u001b[0m: ('http error', 503, 'Service Temporarily Unavailable', <httplib.HTTPMessage instance at 0x103a73758>)"
     ]
    },
    {
     "name": "stdout",
     "output_type": "stream",
     "text": [
      "2016 2016-02 pageviews-20160220-080000.gz - Progress 0.0%\n",
      "2016 2016-02 pageviews-20160222-180000.gz - Progress 0.0%\n",
      "2016 2016-02 pageviews-20160225-040000.gz - Progress 0.0%\n",
      "2016 2016-02 pageviews-20160227-140000.gz - Progress 0.0%\n",
      "2016 2016-02 pageviews-20160213-210000.gz - Progress 0.0%\n",
      "2016 2016-02 pageviews-20160213-220000.gz - Progress 0.0%\n",
      "2016 2016-02 pageviews-20160213-230000.gz - Progress 0.0%\n",
      "2016 2016-02 pageviews-20160214-000000.gz - Progress 0.0%\n",
      "2016 2016-02 pageviews-20160214-010000.gz - Progress 0.0%\n",
      "2016 2016-02 pageviews-20160214-020000.gz - Progress 0.0%\n",
      "2016 2016-02 pageviews-20160214-030000.gz - Progress 0.0%\n",
      "2016 2016-02 pageviews-20160214-040000.gz - Progress 0.0%\n",
      "2016 2016-02 pageviews-20160214-050000.gz - Progress 0.0%\n",
      "2016 2016-02 pageviews-20160214-060000.gz - Progress 0.0%\n",
      "2016 2016-02 pageviews-20160214-070000.gz - Progress 0.0%\n",
      "2016 2016-02 pageviews-20160214-080000.gz - Progress 0.0%\n",
      "2016 2016-02 pageviews-20160214-090000.gz - Progress 0.0%\n",
      "2016 2016-02 pageviews-20160214-100000.gz - Progress 0.0%\n",
      "2016 2016-02 pageviews-20160214-110000.gz - Progress 0.0%\n",
      "2016 2016-02 pageviews-20160214-120000.gz - Progress 0.0%\n",
      "2016 2016-02 pageviews-20160214-130000.gz - Progress 0.0%\n",
      "2016 2016-02 pageviews-20160214-140000.gz - Progress 0.0%\n",
      "2016 2016-02 pageviews-20160214-150000.gz - Progress 0.0%\n",
      "2016 2016-02 pageviews-20160214-160000.gz - Progress 0.0%\n",
      "2016 2016-02 pageviews-20160214-170000.gz - Progress 0.0%\n",
      "2016 2016-02 pageviews-20160214-180000.gz - Progress 0.0%\n",
      "2016 2016-02 pageviews-20160214-190000.gz - Progress 0.0%\n",
      "2016 2016-02 pageviews-20160214-200000.gz - Progress 0.0%\n",
      "2016 2016-02 pageviews-20160214-210000.gz - Progress 0.0%\n",
      "2016 2016-02 pageviews-20160214-220000.gz - Progress 0.0%\n",
      "2016 2016-02 pageviews-20160214-230000.gz - Progress 0.0%\n",
      "2016 2016-02 pageviews-20160215-000000.gz - Progress 0.0%\n",
      "2016 2016-02 pageviews-20160215-010000.gz - Progress 0.0%\n",
      "2016 2016-02 pageviews-20160215-020000.gz - Progress 0.0%\n",
      "2016 2016-02 pageviews-20160215-030000.gz - Progress 0.0%\n",
      "2016 2016-02 pageviews-20160215-040000.gz - Progress 0.0%\n",
      "2016 2016-02 pageviews-20160215-050000.gz - Progress 0.0%\n",
      "2016 2016-02 pageviews-20160215-060000.gz - Progress 0.0%\n",
      "2016 2016-02 pageviews-20160215-070000.gz - Progress 0.0%\n",
      "2016 2016-02 pageviews-20160215-080000.gz - Progress 0.0%\n",
      "2016 2016-02 pageviews-20160215-090000.gz - Progress 0.0%\n",
      "2016 2016-02 pageviews-20160215-100000.gz - Progress 0.0%\n",
      "2016 2016-02 pageviews-20160215-110000.gz - Progress 0.0%\n"
     ]
    }
   ],
   "source": [
    "ct = p.map(lambda l_dl: download_data(yr,mth,l_dl), link_dl) # download 3 files at a time"
   ]
  },
  {
   "cell_type": "code",
   "execution_count": null,
   "metadata": {
    "collapsed": false
   },
   "outputs": [],
   "source": [
    "r = requests.get(main_url)\n",
    "soup = BeautifulSoup(r.content, \"html.parser\")\n",
    "year = [link.get('href').encode('utf8') for link in soup.find_all('a') if link.get('href') == link.string]\n",
    "#for yr in year:\n",
    "yr = '2016'#\n",
    "r = requests.get(main_url + yr + '/') \n",
    "soup = BeautifulSoup(r.content, \"html.parser\")\n",
    "month = [link.get('href').encode('utf8') for link in soup.find_all('a') if link.get('href') == link.string]\n",
    "#for mth in month:\n",
    "mth = '2016-08'\n",
    "print(yr + ' ' + mth)\n",
    "r = requests.get(main_url + yr + '/' + mth + '/')\n",
    "soup = BeautifulSoup(r.content, \"html.parser\")\n",
    "link_dl = [link.get('href').encode('utf8') for link in soup.find_all('a') if ((link.get('href') == link.string) and (link.string.split('-')[0] == 'pagecounts'))]\n",
    "ct = 0\n",
    "Parallel(n_jobs=50)(delayed(download_data)(yr,mth,l_dl) for l_dl in link_dl)"
   ]
  },
  {
   "cell_type": "code",
   "execution_count": null,
   "metadata": {
    "collapsed": false
   },
   "outputs": [],
   "source": [
    "link_dl[1:4]"
   ]
  },
  {
   "cell_type": "code",
   "execution_count": null,
   "metadata": {
    "collapsed": true
   },
   "outputs": [],
   "source": []
  },
  {
   "cell_type": "code",
   "execution_count": null,
   "metadata": {
    "collapsed": true
   },
   "outputs": [],
   "source": []
  },
  {
   "cell_type": "code",
   "execution_count": null,
   "metadata": {
    "collapsed": true
   },
   "outputs": [],
   "source": []
  },
  {
   "cell_type": "code",
   "execution_count": null,
   "metadata": {
    "collapsed": true
   },
   "outputs": [],
   "source": []
  },
  {
   "cell_type": "code",
   "execution_count": null,
   "metadata": {
    "collapsed": true
   },
   "outputs": [],
   "source": []
  },
  {
   "cell_type": "code",
   "execution_count": null,
   "metadata": {
    "collapsed": true
   },
   "outputs": [],
   "source": []
  },
  {
   "cell_type": "code",
   "execution_count": null,
   "metadata": {
    "collapsed": true
   },
   "outputs": [],
   "source": []
  },
  {
   "cell_type": "code",
   "execution_count": null,
   "metadata": {
    "collapsed": true
   },
   "outputs": [],
   "source": []
  },
  {
   "cell_type": "code",
   "execution_count": null,
   "metadata": {
    "collapsed": true
   },
   "outputs": [],
   "source": []
  },
  {
   "cell_type": "code",
   "execution_count": null,
   "metadata": {
    "collapsed": true
   },
   "outputs": [],
   "source": []
  },
  {
   "cell_type": "code",
   "execution_count": null,
   "metadata": {
    "collapsed": true
   },
   "outputs": [],
   "source": [
    "import gzip\n",
    "import glob\n",
    "import os\n",
    "import os.path"
   ]
  },
  {
   "cell_type": "code",
   "execution_count": null,
   "metadata": {
    "collapsed": true
   },
   "outputs": [],
   "source": [
    "PATH_TO_FILE = '/Volumes/My Book/Wikimedia/2016/2016-01'\n",
    "FILE_DIR = '/Volumes/My Book/Wikimedia/2016/2016-01'"
   ]
  },
  {
   "cell_type": "code",
   "execution_count": null,
   "metadata": {
    "collapsed": false
   },
   "outputs": [],
   "source": [
    "for gzip_path in glob.glob(PATH_TO_FILE + \"/*.gz\"):\n",
    "    if os.path.isdir(gzip_path) == False:\n",
    "        inF = gzip.open(gzip_path, 'rb')\n",
    "        # uncompress the gzip_path INTO THE 's' variable\n",
    "        s = inF.read()\n",
    "        inF.close()\n",
    "\n",
    "        # get gzip filename (without directories)\n",
    "        gzip_fname = os.path.basename(gzip_path)\n",
    "        # get original filename (remove 3 characters from the end: \".gz\")\n",
    "        fname = gzip_fname[:-3]\n",
    "        uncompressed_path = os.path.join(FILE_DIR, fname)\n",
    "\n",
    "        # store uncompressed file data from 's' variable\n",
    "        open(uncompressed_path, 'w').write(s)"
   ]
  },
  {
   "cell_type": "code",
   "execution_count": null,
   "metadata": {
    "collapsed": true
   },
   "outputs": [],
   "source": []
  },
  {
   "cell_type": "code",
   "execution_count": null,
   "metadata": {
    "collapsed": true
   },
   "outputs": [],
   "source": []
  },
  {
   "cell_type": "code",
   "execution_count": null,
   "metadata": {
    "collapsed": true
   },
   "outputs": [],
   "source": []
  },
  {
   "cell_type": "code",
   "execution_count": null,
   "metadata": {
    "collapsed": true
   },
   "outputs": [],
   "source": []
  }
 ],
 "metadata": {
  "kernelspec": {
   "display_name": "Python 2",
   "language": "python",
   "name": "python2"
  },
  "language_info": {
   "codemirror_mode": {
    "name": "ipython",
    "version": 2
   },
   "file_extension": ".py",
   "mimetype": "text/x-python",
   "name": "python",
   "nbconvert_exporter": "python",
   "pygments_lexer": "ipython2",
   "version": "2.7.9"
  }
 },
 "nbformat": 4,
 "nbformat_minor": 1
}
